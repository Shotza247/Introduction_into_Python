{
 "cells": [
  {
   "cell_type": "code",
   "execution_count": 1,
   "id": "2d717a31",
   "metadata": {},
   "outputs": [],
   "source": [
    "#instantiated the employee class, passed a pass because we will update/modify the file later\n",
    "#Created attributes with a define initial function\n",
    "class Employee:\n",
    "    def __init__(self,first,last,pay):\n",
    "        self.Firstname = first\n",
    "        self.Lastname = last\n",
    "        self.Email = first +\".\"+ last + \"@Java.com\"\n",
    "        self.Salary = pay\n",
    "        #self.Taxamount = taxdeduction()\n",
    "        \n",
    "    def fullname(self):\n",
    "        return f\"{self.Firstname} {self.Lastname}\"\n",
    "    \n",
    "    def taxdeduction(self,pay):\n",
    "        value = 0\n",
    "        if pay <= 10000:\n",
    "            return  pay * 0.087\n",
    "        elif pay > 10000 and pay <= 25000:\n",
    "            return pay * 0.115\n",
    "        elif pay > 25000 and pay <= 40000:\n",
    "            return pay * 0.135\n",
    "        else:\n",
    "            return pay * 0.157            \n",
    "        \n",
    "        "
   ]
  },
  {
   "cell_type": "code",
   "execution_count": 2,
   "id": "7a5a1c28",
   "metadata": {},
   "outputs": [],
   "source": [
    "first = input(\"Enter firstname: \")\n",
    "last = input(\"Enter lastname: \")\n",
    "pay = int(input(\"Enter Salary: \"))"
   ]
  },
  {
   "cell_type": "code",
   "execution_count": 3,
   "id": "3273f051",
   "metadata": {},
   "outputs": [],
   "source": [
    "emp = Employee(first,last,pay)"
   ]
  },
  {
   "cell_type": "code",
   "execution_count": 4,
   "id": "17156078",
   "metadata": {},
   "outputs": [
    {
     "name": "stdout",
     "output_type": "stream",
     "text": [
      "2530.0\n"
     ]
    }
   ],
   "source": [
    "#print(emp.fullname())\n",
    "print(emp.taxdeduction(emp.Salary))"
   ]
  }
 ],
 "metadata": {
  "kernelspec": {
   "display_name": "Python 3",
   "language": "python",
   "name": "python3"
  },
  "language_info": {
   "codemirror_mode": {
    "name": "ipython",
    "version": 3
   },
   "file_extension": ".py",
   "mimetype": "text/x-python",
   "name": "python",
   "nbconvert_exporter": "python",
   "pygments_lexer": "ipython3",
   "version": "3.13.3"
  }
 },
 "nbformat": 4,
 "nbformat_minor": 5
}
