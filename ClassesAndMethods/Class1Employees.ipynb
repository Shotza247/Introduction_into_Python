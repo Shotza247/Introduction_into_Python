{
 "cells": [
  {
   "cell_type": "code",
   "execution_count": 15,
   "id": "2d717a31",
   "metadata": {},
   "outputs": [],
   "source": [
    "#instantiated the employee class, passed a pass because we will update/modify the file later\n",
    "class Employee:\n",
    "    pass"
   ]
  },
  {
   "cell_type": "code",
   "execution_count": 16,
   "id": "03e228af",
   "metadata": {},
   "outputs": [],
   "source": [
    "#allocated a variables to the class\n",
    "emp_1 = Employee()\n",
    "emp_2 = Employee()"
   ]
  },
  {
   "cell_type": "code",
   "execution_count": 17,
   "id": "8833b093",
   "metadata": {},
   "outputs": [
    {
     "name": "stdout",
     "output_type": "stream",
     "text": [
      "<__main__.Employee object at 0x000001E538257380>\n",
      "<__main__.Employee object at 0x000001E538257380>\n"
     ]
    }
   ],
   "source": [
    "#created a simple print to see the memory locations of the variables\n",
    "print(emp_1)\n",
    "print(emp_1)"
   ]
  },
  {
   "cell_type": "code",
   "execution_count": 18,
   "id": "63a7fca2",
   "metadata": {},
   "outputs": [],
   "source": [
    "#we can create some attributes to store our emp details in\n",
    "emp_1.Firstname = \"Corey\"\n",
    "emp_1.Lastname = \"Smith\"\n",
    "emp_1.Email = \"CoreySmith@comp.com\"\n",
    "emp_1.Salary = 22000"
   ]
  },
  {
   "cell_type": "code",
   "execution_count": 19,
   "id": "3886a1be",
   "metadata": {},
   "outputs": [],
   "source": [
    "#we can create some attributes to store our emp details in\n",
    "emp_2.Firstname = \"Sharon\"\n",
    "emp_2.Lastname = \"Williams\"\n",
    "emp_2.Email = \"sharonWilliams@comp.com\"\n",
    "emp_2.Salary = 27000"
   ]
  },
  {
   "cell_type": "code",
   "execution_count": 20,
   "id": "e59a0090",
   "metadata": {},
   "outputs": [
    {
     "name": "stdout",
     "output_type": "stream",
     "text": [
      "CoreySmith@comp.com\n",
      "27000\n"
     ]
    }
   ],
   "source": [
    "#But we'd have to repeat this for both emp_1, emp_2 and more, very tedious.\n",
    "print(emp_1.Email)\n",
    "print(emp_2.Salary)"
   ]
  }
 ],
 "metadata": {
  "kernelspec": {
   "display_name": "Python 3",
   "language": "python",
   "name": "python3"
  },
  "language_info": {
   "codemirror_mode": {
    "name": "ipython",
    "version": 3
   },
   "file_extension": ".py",
   "mimetype": "text/x-python",
   "name": "python",
   "nbconvert_exporter": "python",
   "pygments_lexer": "ipython3",
   "version": "3.13.3"
  }
 },
 "nbformat": 4,
 "nbformat_minor": 5
}
