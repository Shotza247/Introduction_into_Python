{
 "cells": [
  {
   "cell_type": "code",
   "execution_count": 25,
   "id": "2d717a31",
   "metadata": {},
   "outputs": [],
   "source": [
    "#instantiated the employee class, passed a pass because we will update/modify the file later\n",
    "#Created attributes with a define initial function\n",
    "class Employee:\n",
    "    def __init__(self,first,last,pay):\n",
    "        self.Firstname = first\n",
    "        self.Lastname = last\n",
    "        self.Email = first +\".\"+ last + \"@Java.com\"\n",
    "        self.Salary = pay\n",
    "        \n",
    "    def fullname(self):\n",
    "        return f\"{self.Firstname} {self.Lastname}\""
   ]
  },
  {
   "cell_type": "code",
   "execution_count": null,
   "id": "7a5a1c28",
   "metadata": {},
   "outputs": [],
   "source": []
  },
  {
   "cell_type": "code",
   "execution_count": 26,
   "id": "03e228af",
   "metadata": {},
   "outputs": [],
   "source": [
    "#allocated a variables to the class\n",
    "emp_1 = Employee(\"Corey\",\"Smith\",22000)\n",
    "emp_2 = Employee(\"Sharon\",\"Williams\",7000)"
   ]
  },
  {
   "cell_type": "code",
   "execution_count": 27,
   "id": "8833b093",
   "metadata": {},
   "outputs": [],
   "source": [
    "#created a simple print to see the memory locations of the variables\n",
    "#print(emp_1)\n",
    "#print(emp_1)"
   ]
  },
  {
   "cell_type": "code",
   "execution_count": null,
   "id": "e59a0090",
   "metadata": {},
   "outputs": [
    {
     "name": "stdout",
     "output_type": "stream",
     "text": [
      "Corey.Smith@Java.com\n",
      "7000\n",
      "Sharon Williams\n"
     ]
    }
   ],
   "source": [
    "#But we'd have to repeat this for both emp_1, emp_2 and more, very tedious.\n",
    "print(emp_1.Email)\n",
    "print(emp_2.Salary)\n",
    "print(emp_2.fullname())#remember this is a method/function with '()'"
   ]
  },
  {
   "cell_type": "markdown",
   "id": "3ec6432e",
   "metadata": {},
   "source": [
    "**we see how tedious, prone to errors and repetitive this is, this is where classes come in. Go to the top and see the class and the functions a.k.a methods define**"
   ]
  },
  {
   "cell_type": "code",
   "execution_count": null,
   "id": "3a61e516",
   "metadata": {},
   "outputs": [],
   "source": []
  }
 ],
 "metadata": {
  "kernelspec": {
   "display_name": "Python 3",
   "language": "python",
   "name": "python3"
  },
  "language_info": {
   "codemirror_mode": {
    "name": "ipython",
    "version": 3
   },
   "file_extension": ".py",
   "mimetype": "text/x-python",
   "name": "python",
   "nbconvert_exporter": "python",
   "pygments_lexer": "ipython3",
   "version": "3.13.3"
  }
 },
 "nbformat": 4,
 "nbformat_minor": 5
}
