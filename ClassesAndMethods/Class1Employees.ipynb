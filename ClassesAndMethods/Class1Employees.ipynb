{
 "cells": [
  {
   "cell_type": "code",
   "execution_count": null,
   "id": "2d717a31",
   "metadata": {},
   "outputs": [],
   "source": [
    "#instantiated the employee class, passed a pass because we will update/modify the file later\n",
    "class Employee:\n",
    "    pass"
   ]
  },
  {
   "cell_type": "code",
   "execution_count": null,
   "id": "03e228af",
   "metadata": {},
   "outputs": [],
   "source": [
    "#allocated a variables to the class\n",
    "emp_1 = Employee()\n",
    "emp_2 = Employee()"
   ]
  },
  {
   "cell_type": "code",
   "execution_count": null,
   "id": "8833b093",
   "metadata": {},
   "outputs": [],
   "source": [
    "#created a simple print to see the memory locations of the variables\n",
    "print(emp_1)\n",
    "print(emp_1)"
   ]
  }
 ],
 "metadata": {
  "language_info": {
   "name": "python"
  }
 },
 "nbformat": 4,
 "nbformat_minor": 5
}
